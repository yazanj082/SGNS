{
 "cells": [
  {
   "cell_type": "code",
   "execution_count": 1,
   "id": "961eca9c",
   "metadata": {},
   "outputs": [],
   "source": [
    "import numpy as np\n",
    "import random\n",
    "import math\n",
    "import pandas as pd\n",
    "from nltk.stem.isri import ISRIStemmer\n",
    "from nltk.corpus import stopwords\n",
    "import re\n",
    "from sklearn.model_selection import train_test_split\n",
    "from IPython.display import clear_output\n",
    "from keras.models import Sequential\n",
    "from keras.layers import Dense\n",
    "from tensorflow.keras.losses import categorical_crossentropy\n",
    "from keras.utils import to_categorical\n",
    "from sklearn.feature_extraction.text import CountVectorizer\n",
    "from sklearn.metrics import confusion_matrix, f1_score\n",
    "from sklearn.metrics import confusion_matrix, precision_score, recall_score\n",
    "from keras.backend import clear_session"
   ]
  },
  {
   "cell_type": "code",
   "execution_count": 2,
   "id": "e3073128",
   "metadata": {},
   "outputs": [],
   "source": [
    "class SGNS:\n",
    "    def __init__(self,learn_rate):\n",
    "        self.words = dict()\n",
    "        self.contexts = dict()\n",
    "        self.learn_rate = learn_rate\n",
    "        \n",
    "    def predict(self,word,context):\n",
    "        return 1/(1+math.exp( np.dot(word,context)*-1))\n",
    "    \n",
    "    def _update_wheights(self,target,positive_sample,nigative_samples):\n",
    "        old_positive = self.contexts[positive_sample].copy()\n",
    "        self.contexts[positive_sample] = self.contexts[positive_sample] - self.learn_rate*(self.predict(self.words[target],self.contexts[positive_sample])-1)*self.words[target]\n",
    "        temp = np.zeros_like(self.contexts[next(iter(self.contexts))])\n",
    "        for nigative_sample in nigative_samples:\n",
    "            if not temp.any():\n",
    "                temp = self.predict(self.words[target],self.contexts[nigative_sample]) * self.contexts[nigative_sample]\n",
    "            \n",
    "            else:\n",
    "                temp += self.predict(self.words[target],self.contexts[nigative_sample]) * self.contexts[nigative_sample]\n",
    "            self.contexts[nigative_sample] = self.contexts[nigative_sample] - self.learn_rate*(self.predict(self.words[target],self.contexts[nigative_sample]))*self.words[target]\n",
    "        \n",
    "        self.words[target] = self.words[target] - self.learn_rate*((self.predict(self.words[target],old_positive)-1)*old_positive + temp)\n",
    "    \n",
    "    def _probability_of_negative_word_sampling(self,tokens,keys):\n",
    "        x = random.randint(0,10)/len(keys)\n",
    "        element = random.choice(keys)\n",
    "        while(x>tokens[element]):\n",
    "            element = random.choice(keys)\n",
    "        return element\n",
    "    \n",
    "    def train(self,iterations,docs,tokens,size_of_vector,window_size,k):\n",
    "        keys = list(tokens.keys())\n",
    "        for token in keys:\n",
    "            self.words[token] = np.random.uniform(low=-1, high=1, size=size_of_vector)\n",
    "            self.contexts[token] = np.random.uniform(low=-1, high=1, size=size_of_vector)\n",
    "           \n",
    "        positive_samples=[]\n",
    "        nigative_samples=[]\n",
    "        element = \"\"\n",
    "        count = 1\n",
    "        percent=0\n",
    "        previous = 0\n",
    "        for epoch in range(iterations):\n",
    "            \n",
    "\n",
    "            for doc_string in docs:\n",
    "                percent = count/(len(docs)*iterations)\n",
    "                if int(percent*100) > previous:\n",
    "                    previous = percent*100\n",
    "                    clear_output()\n",
    "                    print(str(percent*100) + \"%\")\n",
    "\n",
    "                count+=1\n",
    "\n",
    "                doc = doc_string.split()\n",
    "                for target_index in range(len(doc)):\n",
    "                    positive_samples = []\n",
    "                    for context_index in range(len(doc)):\n",
    "                        if context_index != target_index and (context_index >= target_index-window_size and context_index <= target_index+window_size):\n",
    "                            positive_samples.append(doc[context_index])\n",
    "\n",
    "                    for positive_sample in positive_samples:\n",
    "                        nigative_samples = []\n",
    "                        while len(nigative_samples) != k:\n",
    "                            element = self._probability_of_negative_word_sampling(tokens,keys)\n",
    "                            if element != doc[target_index]:\n",
    "                                nigative_samples.append(element)\n",
    "                        self._update_wheights(doc[target_index],positive_sample,nigative_samples)"
   ]
  },
  {
   "cell_type": "code",
   "execution_count": 3,
   "id": "06c36cbd",
   "metadata": {},
   "outputs": [
    {
     "data": {
      "text/html": [
       "<div>\n",
       "<style scoped>\n",
       "    .dataframe tbody tr th:only-of-type {\n",
       "        vertical-align: middle;\n",
       "    }\n",
       "\n",
       "    .dataframe tbody tr th {\n",
       "        vertical-align: top;\n",
       "    }\n",
       "\n",
       "    .dataframe thead th {\n",
       "        text-align: right;\n",
       "    }\n",
       "</style>\n",
       "<table border=\"1\" class=\"dataframe\">\n",
       "  <thead>\n",
       "    <tr style=\"text-align: right;\">\n",
       "      <th></th>\n",
       "      <th>Tweet</th>\n",
       "      <th>Sentiment</th>\n",
       "      <th>Sentiment_Expression</th>\n",
       "    </tr>\n",
       "  </thead>\n",
       "  <tbody>\n",
       "    <tr>\n",
       "      <th>0</th>\n",
       "      <td>\"أنا أؤمن بأن الانسان ينطفئ جماله عند ابتعاد م...</td>\n",
       "      <td>negative</td>\n",
       "      <td>implicit</td>\n",
       "    </tr>\n",
       "    <tr>\n",
       "      <th>1</th>\n",
       "      <td>من الذاكره... @3FInQe . عندما اعتقد كريستيانو ...</td>\n",
       "      <td>positive</td>\n",
       "      <td>explicit</td>\n",
       "    </tr>\n",
       "    <tr>\n",
       "      <th>2</th>\n",
       "      <td>لا نخلو من ضغوطات الحياة. فنحن نعيش على أرض أع...</td>\n",
       "      <td>neutral</td>\n",
       "      <td>none</td>\n",
       "    </tr>\n",
       "    <tr>\n",
       "      <th>3</th>\n",
       "      <td>#مصطلحات_لبنانيه_حيرت_البشريه بتوصل عالبيت ، ب...</td>\n",
       "      <td>negative</td>\n",
       "      <td>explicit</td>\n",
       "    </tr>\n",
       "    <tr>\n",
       "      <th>4</th>\n",
       "      <td>نصمت !! لتسير حياتنا على مً يرام فالناّس لم تع...</td>\n",
       "      <td>negative</td>\n",
       "      <td>explicit</td>\n",
       "    </tr>\n",
       "  </tbody>\n",
       "</table>\n",
       "</div>"
      ],
      "text/plain": [
       "                                               Tweet Sentiment  \\\n",
       "0  \"أنا أؤمن بأن الانسان ينطفئ جماله عند ابتعاد م...  negative   \n",
       "1  من الذاكره... @3FInQe . عندما اعتقد كريستيانو ...  positive   \n",
       "2  لا نخلو من ضغوطات الحياة. فنحن نعيش على أرض أع...   neutral   \n",
       "3  #مصطلحات_لبنانيه_حيرت_البشريه بتوصل عالبيت ، ب...  negative   \n",
       "4  نصمت !! لتسير حياتنا على مً يرام فالناّس لم تع...  negative   \n",
       "\n",
       "  Sentiment_Expression  \n",
       "0             implicit  \n",
       "1             explicit  \n",
       "2                 none  \n",
       "3             explicit  \n",
       "4             explicit  "
      ]
     },
     "execution_count": 3,
     "metadata": {},
     "output_type": "execute_result"
    }
   ],
   "source": [
    "path = r\"C:\\Users\\yazan\\Documents\\NAJAH\\NLP\\HWS\\HW1\\tweet_sentiment.csv\"\n",
    "df = pd.read_csv(path)\n",
    "df.head()"
   ]
  },
  {
   "cell_type": "code",
   "execution_count": 4,
   "id": "e0d4aace",
   "metadata": {},
   "outputs": [
    {
     "name": "stdout",
     "output_type": "stream",
     "text": [
      "['negative' 'positive' 'neutral' 'very_positive' 'very_negative']\n",
      "['negative' 'positive' 'neutral']\n"
     ]
    },
    {
     "data": {
      "text/html": [
       "<div>\n",
       "<style scoped>\n",
       "    .dataframe tbody tr th:only-of-type {\n",
       "        vertical-align: middle;\n",
       "    }\n",
       "\n",
       "    .dataframe tbody tr th {\n",
       "        vertical-align: top;\n",
       "    }\n",
       "\n",
       "    .dataframe thead th {\n",
       "        text-align: right;\n",
       "    }\n",
       "</style>\n",
       "<table border=\"1\" class=\"dataframe\">\n",
       "  <thead>\n",
       "    <tr style=\"text-align: right;\">\n",
       "      <th></th>\n",
       "      <th>Tweet</th>\n",
       "      <th>Sentiment</th>\n",
       "    </tr>\n",
       "  </thead>\n",
       "  <tbody>\n",
       "    <tr>\n",
       "      <th>0</th>\n",
       "      <td>\"أنا أؤمن بأن الانسان ينطفئ جماله عند ابتعاد م...</td>\n",
       "      <td>negative</td>\n",
       "    </tr>\n",
       "    <tr>\n",
       "      <th>1</th>\n",
       "      <td>من الذاكره... @3FInQe . عندما اعتقد كريستيانو ...</td>\n",
       "      <td>positive</td>\n",
       "    </tr>\n",
       "    <tr>\n",
       "      <th>2</th>\n",
       "      <td>لا نخلو من ضغوطات الحياة. فنحن نعيش على أرض أع...</td>\n",
       "      <td>neutral</td>\n",
       "    </tr>\n",
       "    <tr>\n",
       "      <th>3</th>\n",
       "      <td>#مصطلحات_لبنانيه_حيرت_البشريه بتوصل عالبيت ، ب...</td>\n",
       "      <td>negative</td>\n",
       "    </tr>\n",
       "    <tr>\n",
       "      <th>4</th>\n",
       "      <td>نصمت !! لتسير حياتنا على مً يرام فالناّس لم تع...</td>\n",
       "      <td>negative</td>\n",
       "    </tr>\n",
       "  </tbody>\n",
       "</table>\n",
       "</div>"
      ],
      "text/plain": [
       "                                               Tweet Sentiment\n",
       "0  \"أنا أؤمن بأن الانسان ينطفئ جماله عند ابتعاد م...  negative\n",
       "1  من الذاكره... @3FInQe . عندما اعتقد كريستيانو ...  positive\n",
       "2  لا نخلو من ضغوطات الحياة. فنحن نعيش على أرض أع...   neutral\n",
       "3  #مصطلحات_لبنانيه_حيرت_البشريه بتوصل عالبيت ، ب...  negative\n",
       "4  نصمت !! لتسير حياتنا على مً يرام فالناّس لم تع...  negative"
      ]
     },
     "execution_count": 4,
     "metadata": {},
     "output_type": "execute_result"
    }
   ],
   "source": [
    "print(df['Sentiment'].unique())\n",
    "df['Sentiment'] = df['Sentiment'].replace('very_positive','positive')\n",
    "df['Sentiment'] = df['Sentiment'].replace('very_negative','negative')\n",
    "print(df['Sentiment'].unique())\n",
    "df = df.drop('Sentiment_Expression', axis=1)\n",
    "df.head()"
   ]
  },
  {
   "cell_type": "code",
   "execution_count": 5,
   "id": "8e93ac15",
   "metadata": {},
   "outputs": [],
   "source": [
    "arabic_punctuations = '''`÷×؛<>_()*&^%][ـ،/:\"؟.,'{}~¦+|!”…“–ـ'''\n",
    "english_punctuations = '!\"$%&\\'()*+,-./:;<=>?@[\\\\]^_`{|}~'\n",
    "punctuations_list = arabic_punctuations + english_punctuations\n",
    "\n",
    "def remove_punctuations(text):\n",
    "    translator = str.maketrans('', '', punctuations_list)\n",
    "    return text.translate(translator)"
   ]
  },
  {
   "cell_type": "code",
   "execution_count": 6,
   "id": "dd150106",
   "metadata": {},
   "outputs": [],
   "source": [
    "def remove_repeating_char(text):\n",
    "    return re.sub(r'(.)\\1+', r'\\1', text)"
   ]
  },
  {
   "cell_type": "code",
   "execution_count": 7,
   "id": "c9cc5ca6",
   "metadata": {},
   "outputs": [],
   "source": [
    "stop_words=stopwords.words('arabic')\n",
    "stemmerar = ISRIStemmer()\n",
    "semmed_stop_words = [stemmerar.stem(word) for word in stop_words]\n",
    "def textblob_tokenizer(str_input):\n",
    "    str_no_url = re.sub(r'(https?://(?:www\\.)?\\S+)', '#رابط#', str_input)\n",
    "    str_no_punctuations = remove_punctuations(str_no_url)\n",
    "    str_no_number = re.sub(r'[a-zA-Z1-9]', '', str_no_punctuations)\n",
    "    stemmed_word = stemmerar.stem(str_no_number)\n",
    "    tokens = stemmed_word.split()\n",
    "    words = []\n",
    "    token_temp = ''\n",
    "    for token in tokens:\n",
    "        token_temp = remove_repeating_char(token)\n",
    "        if token_temp not in stop_words and token_temp not in semmed_stop_words:\n",
    "            words.append(token_temp)\n",
    "\n",
    "    return words"
   ]
  },
  {
   "cell_type": "code",
   "execution_count": 8,
   "id": "f0f72645",
   "metadata": {},
   "outputs": [],
   "source": [
    "def initialize_data(data):\n",
    "    docs = []\n",
    "    docs_string=[]\n",
    "    tokens_count = dict()\n",
    "    count = 0\n",
    "    for i in data:\n",
    "        temp = textblob_tokenizer(i)\n",
    "        doc_string=\"\"\n",
    "        doc=[]\n",
    "        for j in temp:\n",
    "            doc.append(j)\n",
    "            if doc_string != \"\":\n",
    "                doc_string+=\" \"\n",
    "            if(j in tokens_count):\n",
    "                tokens_count[j]+=1\n",
    "            else:\n",
    "                tokens_count[j]=1\n",
    "            doc_string += j\n",
    "            count +=1\n",
    "        docs.append(doc)\n",
    "        docs_string.append(doc_string)\n",
    "    tokens = dict()\n",
    "    count = pow(count,0.75)\n",
    "    for i in tokens_count:\n",
    "        tokens[i] = pow(tokens_count[i],0.75)/count\n",
    "    return docs,docs_string,tokens"
   ]
  },
  {
   "cell_type": "code",
   "execution_count": 9,
   "id": "82551f47",
   "metadata": {},
   "outputs": [
    {
     "name": "stdout",
     "output_type": "stream",
     "text": [
      "Wall time: 2.11 s\n"
     ]
    }
   ],
   "source": [
    "%%time\n",
    "x = df['Tweet']\n",
    "y = df['Sentiment']\n",
    "x, x_test, y, y_test = train_test_split(x,y, stratify=y, test_size=0.25)\n",
    "docs,docs_string,tokens = initialize_data(x)\n",
    "docs_test,docs_string_test,tokens_test = initialize_data(x_test)\n"
   ]
  },
  {
   "cell_type": "code",
   "execution_count": 10,
   "id": "bd84181b",
   "metadata": {},
   "outputs": [
    {
     "name": "stdout",
     "output_type": "stream",
     "text": [
      "100.0%\n",
      "Wall time: 2min 22s\n"
     ]
    }
   ],
   "source": [
    "%%time\n",
    "sgns = SGNS(.1)\n",
    "sgns.train(10,docs_string,tokens,400,2,2)\n"
   ]
  },
  {
   "cell_type": "code",
   "execution_count": 11,
   "id": "3c424a91",
   "metadata": {},
   "outputs": [
    {
     "name": "stdout",
     "output_type": "stream",
     "text": [
      "100.0%\n"
     ]
    },
    {
     "name": "stderr",
     "output_type": "stream",
     "text": [
      "C:\\Users\\yazan\\AppData\\Local\\Packages\\PythonSoftwareFoundation.Python.3.9_qbz5n2kfra8p0\\LocalCache\\local-packages\\Python39\\site-packages\\matplotlib\\backends\\_backend_pdf_ps.py:109: RuntimeWarning: Glyph 128131 missing from current font.\n",
      "  font.set_text(s, 0.0, flags=ft2font.LOAD_NO_HINTING)\n",
      "C:\\Users\\yazan\\AppData\\Local\\Packages\\PythonSoftwareFoundation.Python.3.9_qbz5n2kfra8p0\\LocalCache\\local-packages\\Python39\\site-packages\\matplotlib\\backends\\_backend_pdf_ps.py:109: RuntimeWarning: Glyph 128079 missing from current font.\n",
      "  font.set_text(s, 0.0, flags=ft2font.LOAD_NO_HINTING)\n",
      "C:\\Users\\yazan\\AppData\\Local\\Packages\\PythonSoftwareFoundation.Python.3.9_qbz5n2kfra8p0\\LocalCache\\local-packages\\Python39\\site-packages\\matplotlib\\backends\\backend_agg.py:240: RuntimeWarning: Glyph 128131 missing from current font.\n",
      "  font.set_text(s, 0.0, flags=flags)\n",
      "C:\\Users\\yazan\\AppData\\Local\\Packages\\PythonSoftwareFoundation.Python.3.9_qbz5n2kfra8p0\\LocalCache\\local-packages\\Python39\\site-packages\\matplotlib\\backends\\backend_agg.py:203: RuntimeWarning: Glyph 128131 missing from current font.\n",
      "  font.set_text(s, 0, flags=flags)\n",
      "C:\\Users\\yazan\\AppData\\Local\\Packages\\PythonSoftwareFoundation.Python.3.9_qbz5n2kfra8p0\\LocalCache\\local-packages\\Python39\\site-packages\\matplotlib\\backends\\backend_agg.py:240: RuntimeWarning: Glyph 128079 missing from current font.\n",
      "  font.set_text(s, 0.0, flags=flags)\n",
      "C:\\Users\\yazan\\AppData\\Local\\Packages\\PythonSoftwareFoundation.Python.3.9_qbz5n2kfra8p0\\LocalCache\\local-packages\\Python39\\site-packages\\matplotlib\\backends\\backend_agg.py:203: RuntimeWarning: Glyph 128079 missing from current font.\n",
      "  font.set_text(s, 0, flags=flags)\n"
     ]
    },
    {
     "data": {
      "image/png": "[encoded data removed]",
      "text/plain": [
       "<Figure size 432x288 with 1 Axes>"
      ]
     },
     "metadata": {
      "needs_background": "light"
     },
     "output_type": "display_data"
    }
   ],
   "source": [
    "import numpy as np\n",
    "from sklearn.decomposition import PCA\n",
    "import matplotlib.pyplot as plt\n",
    "\n",
    "key_list = random.sample(list(sgns.words.keys()), int(len(sgns.words.keys()) * 0.005))\n",
    "value_list = [sgns.words[key] for key in key_list]\n",
    "# Use PCA to reduce the data to 2 dimensions\n",
    "pca = PCA(n_components=2)\n",
    "reduced_data = pca.fit_transform(value_list)\n",
    "count = 1\n",
    "percent=0\n",
    "previous = 0\n",
    "# Plot the reduced data on a 2D scatter plot with index labels\n",
    "for i, point in enumerate(reduced_data):\n",
    "    percent = count/len(reduced_data)\n",
    "    if int(percent*10) > previous:\n",
    "        previous = percent*10\n",
    "        clear_output()\n",
    "        print(str(percent*100) + \"%\")\n",
    "\n",
    "    count+=1\n",
    "    plt.scatter(point[0]*20, point[1]*20)\n",
    "    plt.annotate(key_list[i][::-1], (point[0]*20, point[1]*20))\n",
    "\n",
    "plt.savefig(\"C:\\\\Users\\\\yazan\\\\Documents\\\\NAJAH\\\\NLP\\\\HWS\\\\HW1\\\\my_plot.pdf\",dpi=1200)"
   ]
  },
  {
   "cell_type": "code",
   "execution_count": 12,
   "id": "45551e10",
   "metadata": {},
   "outputs": [],
   "source": [
    "def get_embedding(docs,wheights):\n",
    "    embedding = []\n",
    "    \n",
    "    for doc in docs:\n",
    "        temp = np.zeros_like(wheights[next(iter(wheights))])\n",
    "        count = 0\n",
    "        for term in doc:\n",
    "            if term in wheights:\n",
    "                temp+= wheights[term]\n",
    "            count+=1\n",
    "        embedding.append(temp/count)\n",
    "        \n",
    "    return embedding\n"
   ]
  },
  {
   "cell_type": "code",
   "execution_count": 13,
   "id": "80caf30f",
   "metadata": {},
   "outputs": [],
   "source": [
    "x_embedding = get_embedding(docs,sgns.words)\n",
    "x_test_embedding = get_embedding(docs_test,sgns.words)\n",
    "\n"
   ]
  },
  {
   "cell_type": "code",
   "execution_count": 14,
   "id": "3a4626a0",
   "metadata": {},
   "outputs": [],
   "source": [
    "label_dict = {'negative': 0, 'positive': 1, 'neutral': 2}\n",
    "\n",
    "y_encoded = np.array([label_dict[label] for label in y])\n",
    "y_one_hot = to_categorical(y_encoded, num_classes=3)\n",
    "y_encoded = np.array([label_dict[label] for label in y_test])\n",
    "y_one_hot_test = to_categorical(y_encoded, num_classes=3)"
   ]
  },
  {
   "cell_type": "code",
   "execution_count": 15,
   "id": "d7cf3a6a",
   "metadata": {},
   "outputs": [
    {
     "name": "stdout",
     "output_type": "stream",
     "text": [
      "Epoch 1/15\n",
      "94/94 [==============================] - 1s 2ms/step - loss: 1.0211 - accuracy: 0.4900\n",
      "Epoch 2/15\n",
      "94/94 [==============================] - 0s 2ms/step - loss: 0.9111 - accuracy: 0.5810\n",
      "Epoch 3/15\n",
      "94/94 [==============================] - 0s 2ms/step - loss: 0.8240 - accuracy: 0.6397\n",
      "Epoch 4/15\n",
      "94/94 [==============================] - 0s 2ms/step - loss: 0.7458 - accuracy: 0.6887\n",
      "Epoch 5/15\n",
      "94/94 [==============================] - 0s 2ms/step - loss: 0.6410 - accuracy: 0.7450\n",
      "Epoch 6/15\n",
      "94/94 [==============================] - 0s 2ms/step - loss: 0.5366 - accuracy: 0.7950\n",
      "Epoch 7/15\n",
      "94/94 [==============================] - 0s 2ms/step - loss: 0.4129 - accuracy: 0.8533\n",
      "Epoch 8/15\n",
      "94/94 [==============================] - 0s 2ms/step - loss: 0.3152 - accuracy: 0.8853\n",
      "Epoch 9/15\n",
      "94/94 [==============================] - 0s 2ms/step - loss: 0.2771 - accuracy: 0.9043\n",
      "Epoch 10/15\n",
      "94/94 [==============================] - 0s 2ms/step - loss: 0.2398 - accuracy: 0.9123\n",
      "Epoch 11/15\n",
      "94/94 [==============================] - 0s 2ms/step - loss: 0.2161 - accuracy: 0.9267\n",
      "Epoch 12/15\n",
      "94/94 [==============================] - 0s 2ms/step - loss: 0.1918 - accuracy: 0.9343\n",
      "Epoch 13/15\n",
      "94/94 [==============================] - 0s 2ms/step - loss: 0.1842 - accuracy: 0.9353\n",
      "Epoch 14/15\n",
      "94/94 [==============================] - 0s 2ms/step - loss: 0.1617 - accuracy: 0.9390\n",
      "Epoch 15/15\n",
      "94/94 [==============================] - 0s 2ms/step - loss: 0.1667 - accuracy: 0.9390\n",
      "32/32 [==============================] - 0s 2ms/step - loss: 1.1678 - accuracy: 0.6200\n",
      "Test loss: 1.1677762269973755\n",
      "Test accuracy: 0.6200000047683716\n"
     ]
    }
   ],
   "source": [
    "\n",
    "model = Sequential()\n",
    "model.add(Dense(160, activation='relu', input_shape=(len(x_embedding[0]),)))\n",
    "model.add(Dense(120, activation='relu'))\n",
    "model.add(Dense(32, activation='relu'))\n",
    "model.add(Dense(3, activation='softmax'))\n",
    "\n",
    "model.compile(optimizer='adam', loss='categorical_crossentropy', metrics=['accuracy'])\n",
    "# Training the model\n",
    "model.fit(np.array(x_embedding),y_one_hot, epochs=15 , batch_size=32)\n",
    "\n",
    "# Evaluating the model on the test set\n",
    "loss, accuracy = model.evaluate(np.array(x_test_embedding), y_one_hot_test)\n",
    "print('Test loss:', loss)\n",
    "print('Test accuracy:', accuracy)\n",
    "\n"
   ]
  },
  {
   "cell_type": "code",
   "execution_count": 16,
   "id": "de3a4d29",
   "metadata": {},
   "outputs": [
    {
     "name": "stdout",
     "output_type": "stream",
     "text": [
      "32/32 [==============================] - 0s 1ms/step\n",
      "Confusion Matrix:\n",
      " [[326  50  95]\n",
      " [ 55 179  74]\n",
      " [ 57  49 115]]\n",
      "F1 Score: 0.5945462578112192\n",
      "Overall Precision: 0.5977022356646807\n",
      "Overall Recall: 0.5978917319306979\n"
     ]
    }
   ],
   "source": [
    "\n",
    "# Make predictions on the test set\n",
    "y_pred = model.predict(np.array(x_test_embedding))\n",
    "y_pred = np.argmax(y_pred, axis=1)\n",
    "\n",
    "# Convert one-hot encoded y_test to class labels\n",
    "y_test = np.argmax(y_one_hot_test, axis=1)\n",
    "\n",
    "# Calculate the confusion matrix\n",
    "cm = confusion_matrix(y_test, y_pred)\n",
    "print(\"Confusion Matrix:\\n\", cm)\n",
    "\n",
    "# Calculate the F1 score\n",
    "f1 = f1_score(y_test, y_pred, average='macro')\n",
    "print(\"F1 Score:\", f1)\n",
    "# Calculate the precision and recall for each class\n",
    "precision = precision_score(y_test, y_pred, average='macro')\n",
    "recall = recall_score(y_test, y_pred, average='macro')\n",
    "print(\"Overall Precision:\", precision)\n",
    "print(\"Overall Recall:\", recall)"
   ]
  },
  {
   "cell_type": "markdown",
   "id": "fc71616f",
   "metadata": {},
   "source": [
    "### word2vec"
   ]
  },
  {
   "cell_type": "code",
   "execution_count": 17,
   "id": "5bf04de0",
   "metadata": {},
   "outputs": [],
   "source": [
    "def get_embedding(docs,wheights):\n",
    "    embedding = []\n",
    "    \n",
    "    for doc in docs:\n",
    "        temp = np.zeros_like(wheights[wheights.index_to_key[0]])\n",
    "        count = 0\n",
    "        for term in doc:\n",
    "            if term in wheights:\n",
    "                temp+= wheights[term]\n",
    "            count+=1\n",
    "        embedding.append(temp/count)\n",
    "        \n",
    "    return embedding\n"
   ]
  },
  {
   "cell_type": "code",
   "execution_count": 18,
   "id": "2d9d1007",
   "metadata": {},
   "outputs": [
    {
     "name": "stdout",
     "output_type": "stream",
     "text": [
      "KeyedVectors<vector_size=400, 18432 keys>\n",
      "Epoch 1/15\n",
      "94/94 [==============================] - 1s 2ms/step - loss: 1.0619 - accuracy: 0.4700\n",
      "Epoch 2/15\n",
      "94/94 [==============================] - 0s 2ms/step - loss: 1.0515 - accuracy: 0.4707\n",
      "Epoch 3/15\n",
      "94/94 [==============================] - 0s 2ms/step - loss: 1.0512 - accuracy: 0.4707\n",
      "Epoch 4/15\n",
      "94/94 [==============================] - 0s 2ms/step - loss: 1.0503 - accuracy: 0.4707\n",
      "Epoch 5/15\n",
      "94/94 [==============================] - 0s 2ms/step - loss: 1.0492 - accuracy: 0.4707\n",
      "Epoch 6/15\n",
      "94/94 [==============================] - 0s 2ms/step - loss: 1.0475 - accuracy: 0.4707\n",
      "Epoch 7/15\n",
      "94/94 [==============================] - 0s 2ms/step - loss: 1.0478 - accuracy: 0.4707\n",
      "Epoch 8/15\n",
      "94/94 [==============================] - 0s 2ms/step - loss: 1.0431 - accuracy: 0.4707\n",
      "Epoch 9/15\n",
      "94/94 [==============================] - 0s 2ms/step - loss: 1.0398 - accuracy: 0.4707\n",
      "Epoch 10/15\n",
      "94/94 [==============================] - 0s 2ms/step - loss: 1.0306 - accuracy: 0.4707\n",
      "Epoch 11/15\n",
      "94/94 [==============================] - 0s 2ms/step - loss: 1.0143 - accuracy: 0.4907\n",
      "Epoch 12/15\n",
      "94/94 [==============================] - 0s 2ms/step - loss: 0.9937 - accuracy: 0.4977\n",
      "Epoch 13/15\n",
      "94/94 [==============================] - 0s 2ms/step - loss: 0.9823 - accuracy: 0.5093\n",
      "Epoch 14/15\n",
      "94/94 [==============================] - 0s 2ms/step - loss: 0.9723 - accuracy: 0.5277\n",
      "Epoch 15/15\n",
      "94/94 [==============================] - 0s 2ms/step - loss: 0.9656 - accuracy: 0.5270\n",
      "32/32 [==============================] - 0s 2ms/step - loss: 1.0194 - accuracy: 0.4970\n",
      "Test loss: 1.019392728805542\n",
      "Test accuracy: 0.4970000088214874\n"
     ]
    }
   ],
   "source": [
    "from gensim.models import Word2Vec\n",
    "\n",
    "# Define your sentences as a list of lists of words\n",
    "# Initialize a Word2Vec model with SGNS\n",
    "model_sgns = Word2Vec(docs, sg=1, vector_size=400, window=2, min_count=0, workers=0, negative=2)\n",
    "model_sgns.train(docs, total_examples=len(docs), epochs=10)\n",
    "print(model_sgns.wv)\n",
    "x_embedding = get_embedding(docs,model_sgns.wv)\n",
    "x_test_embedding = get_embedding(docs_test,model_sgns.wv)\n",
    "\n",
    "model = Sequential()\n",
    "model.add(Dense(160, activation='relu', input_shape=(len(x_embedding[0]),)))\n",
    "model.add(Dense(120, activation='relu'))\n",
    "model.add(Dense(32, activation='relu'))\n",
    "model.add(Dense(3, activation='softmax'))\n",
    "\n",
    "model.compile(optimizer='adam', loss='categorical_crossentropy', metrics=['accuracy'])\n",
    "# Training the model\n",
    "model.fit(np.array(x_embedding),y_one_hot, epochs=15 , batch_size=32)\n",
    "\n",
    "# Evaluating the model on the test set\n",
    "loss, accuracy = model.evaluate(np.array(x_test_embedding), y_one_hot_test)\n",
    "print('Test loss:', loss)\n",
    "print('Test accuracy:', accuracy)"
   ]
  },
  {
   "cell_type": "code",
   "execution_count": 19,
   "id": "9f17f23c",
   "metadata": {},
   "outputs": [
    {
     "name": "stdout",
     "output_type": "stream",
     "text": [
      "32/32 [==============================] - 0s 1ms/step\n",
      "Confusion Matrix:\n",
      " [[432  32   7]\n",
      " [249  53   6]\n",
      " [164  45  12]]\n",
      "F1 Score: 0.33203502081238073\n",
      "Overall Precision: 0.4663116370808678\n",
      "Overall Recall: 0.3811913389470527\n"
     ]
    }
   ],
   "source": [
    "# Make predictions on the test set\n",
    "y_pred = model.predict(np.array(x_test_embedding))\n",
    "y_pred = np.argmax(y_pred, axis=1)\n",
    "\n",
    "# Convert one-hot encoded y_test to class labels\n",
    "y_test = np.argmax(y_one_hot_test, axis=1)\n",
    "\n",
    "# Calculate the confusion matrix\n",
    "cm = confusion_matrix(y_test, y_pred)\n",
    "print(\"Confusion Matrix:\\n\", cm)\n",
    "\n",
    "# Calculate the F1 score\n",
    "f1 = f1_score(y_test, y_pred, average='macro')\n",
    "print(\"F1 Score:\", f1)\n",
    "# Calculate the precision and recall for each class\n",
    "precision = precision_score(y_test, y_pred, average='macro')\n",
    "recall = recall_score(y_test, y_pred, average='macro')\n",
    "print(\"Overall Precision:\", precision)\n",
    "print(\"Overall Recall:\", recall)"
   ]
  },
  {
   "cell_type": "markdown",
   "id": "18221e21",
   "metadata": {},
   "source": [
    "### count vectorizer"
   ]
  },
  {
   "cell_type": "code",
   "execution_count": 20,
   "id": "5f83e58f",
   "metadata": {},
   "outputs": [
    {
     "name": "stdout",
     "output_type": "stream",
     "text": [
      "Wall time: 225 ms\n"
     ]
    }
   ],
   "source": [
    "%%time\n",
    "x = df['Tweet']\n",
    "y = df['Sentiment']\n",
    "x, x_test, y, y_test = train_test_split(x,y, stratify=y, test_size=0.25)\n",
    "\n",
    "\n",
    "vectorizer = CountVectorizer()\n",
    "vectorizer.fit(x)\n",
    "X_train = vectorizer.transform(x)\n",
    "X_test  = vectorizer.transform(x_test)\n",
    "label_dict = {'negative': 0, 'positive': 1, 'neutral': 2}\n",
    "\n",
    "y_encoded = np.array([label_dict[label] for label in y])\n",
    "y_one_hot = to_categorical(y_encoded, num_classes=3)\n",
    "y_encoded = np.array([label_dict[label] for label in y_test])\n",
    "y_one_hot_test = to_categorical(y_encoded, num_classes=3)"
   ]
  },
  {
   "cell_type": "code",
   "execution_count": 21,
   "id": "f54c3a05",
   "metadata": {},
   "outputs": [
    {
     "name": "stdout",
     "output_type": "stream",
     "text": [
      "Epoch 1/15\n",
      "94/94 [==============================] - 5s 42ms/step - loss: 0.9358 - accuracy: 0.5477\n",
      "Epoch 2/15\n",
      "94/94 [==============================] - 4s 42ms/step - loss: 0.3435 - accuracy: 0.8933\n",
      "Epoch 3/15\n",
      "94/94 [==============================] - 4s 43ms/step - loss: 0.1476 - accuracy: 0.9347\n",
      "Epoch 4/15\n",
      "94/94 [==============================] - 4s 44ms/step - loss: 0.1077 - accuracy: 0.9370\n",
      "Epoch 5/15\n",
      "94/94 [==============================] - 4s 43ms/step - loss: 0.0906 - accuracy: 0.9453\n",
      "Epoch 6/15\n",
      "94/94 [==============================] - 4s 43ms/step - loss: 0.0838 - accuracy: 0.9460\n",
      "Epoch 7/15\n",
      "94/94 [==============================] - 4s 43ms/step - loss: 0.0799 - accuracy: 0.9460\n",
      "Epoch 8/15\n",
      "94/94 [==============================] - 4s 44ms/step - loss: 0.0774 - accuracy: 0.9433\n",
      "Epoch 9/15\n",
      "94/94 [==============================] - 4s 45ms/step - loss: 0.0744 - accuracy: 0.9490\n",
      "Epoch 10/15\n",
      "94/94 [==============================] - 4s 42ms/step - loss: 0.0731 - accuracy: 0.9483\n",
      "Epoch 11/15\n",
      "94/94 [==============================] - 4s 41ms/step - loss: 0.0736 - accuracy: 0.9497\n",
      "Epoch 12/15\n",
      "94/94 [==============================] - 4s 42ms/step - loss: 0.0725 - accuracy: 0.9507\n",
      "Epoch 13/15\n",
      "94/94 [==============================] - 4s 42ms/step - loss: 0.0712 - accuracy: 0.9493\n",
      "Epoch 14/15\n",
      "94/94 [==============================] - 4s 40ms/step - loss: 0.0699 - accuracy: 0.9533\n",
      "Epoch 15/15\n",
      "94/94 [==============================] - 4s 42ms/step - loss: 0.0701 - accuracy: 0.9453\n",
      "32/32 [==============================] - 0s 2ms/step - loss: 1.4494 - accuracy: 0.6910\n",
      "Loss: 1.449365496635437\n",
      "Accuracy: 0.6909999847412109\n"
     ]
    }
   ],
   "source": [
    "\n",
    "clear_session()\n",
    "\n",
    "\n",
    "input_dim = X_train.shape[1]\n",
    "model = Sequential()\n",
    "model.add(Dense(160, input_dim=(input_dim),activation='relu'))\n",
    "model.add(Dense(120, activation='relu'))\n",
    "model.add(Dense(32, activation='relu'))\n",
    "model.add(Dense(3, activation='softmax'))\n",
    "# Compile your model\n",
    "model.compile(optimizer='adam', loss='categorical_crossentropy', metrics=['accuracy'])\n",
    "# Training the model\n",
    "model.fit(X_train,y_one_hot, epochs=15 , batch_size=32)\n",
    "\n",
    "# Evaluate your model\n",
    "loss, accuracy = model.evaluate(X_test, y_one_hot_test)\n",
    "print('Loss:', loss)\n",
    "print('Accuracy:', accuracy)"
   ]
  },
  {
   "cell_type": "code",
   "execution_count": 22,
   "id": "33804afd",
   "metadata": {},
   "outputs": [
    {
     "name": "stdout",
     "output_type": "stream",
     "text": [
      "32/32 [==============================] - 0s 2ms/step\n",
      "Confusion Matrix:\n",
      " [[383  44  44]\n",
      " [ 59 190  59]\n",
      " [ 68  35 118]]\n",
      "F1 Score: 0.6577837964965121\n",
      "Overall Precision: 0.6637455821142679\n",
      "Overall Recall: 0.6546610834733727\n"
     ]
    }
   ],
   "source": [
    "from sklearn.metrics import confusion_matrix, f1_score\n",
    "from sklearn.metrics import confusion_matrix, precision_score, recall_score\n",
    "\n",
    "# Make predictions on the test set\n",
    "y_pred = model.predict(X_test)\n",
    "y_pred = np.argmax(y_pred, axis=1)\n",
    "\n",
    "# Convert one-hot encoded y_test to class labels\n",
    "y_test = np.argmax(y_one_hot_test, axis=1)\n",
    "\n",
    "# Calculate the confusion matrix\n",
    "cm = confusion_matrix(y_test, y_pred)\n",
    "print(\"Confusion Matrix:\\n\", cm)\n",
    "\n",
    "# Calculate the F1 score\n",
    "f1 = f1_score(y_test, y_pred, average='macro')\n",
    "print(\"F1 Score:\", f1)\n",
    "# Calculate the precision and recall for each class\n",
    "precision = precision_score(y_test, y_pred, average='macro')\n",
    "recall = recall_score(y_test, y_pred, average='macro')\n",
    "print(\"Overall Precision:\", precision)\n",
    "print(\"Overall Recall:\", recall)"
   ]
  },
  {
   "cell_type": "code",
   "execution_count": null,
   "id": "710bd02a",
   "metadata": {},
   "outputs": [],
   "source": []
  }
 ],
 "metadata": {
  "kernelspec": {
   "display_name": "Python 3 (ipykernel)",
   "language": "python",
   "name": "python3"
  },
  "language_info": {
   "codemirror_mode": {
    "name": "ipython",
    "version": 3
   },
   "file_extension": ".py",
   "mimetype": "text/x-python",
   "name": "python",
   "nbconvert_exporter": "python",
   "pygments_lexer": "ipython3",
   "version": "3.9.13"
  }
 },
 "nbformat": 4,
 "nbformat_minor": 5
}
